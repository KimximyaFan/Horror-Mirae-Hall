{
 "cells": [
  {
   "cell_type": "code",
   "execution_count": null,
   "id": "d7733397",
   "metadata": {},
   "outputs": [],
   "source": [
    "# 1. First Download Unity\n",
    "\n",
    "# 2. Make Unity Project for AR mobile\n",
    "\n",
    "# 3. Download Models you want express\n",
    "\n",
    "# 4. Make a Prefabs for Models\n",
    "\n",
    "# 5. Customize Settings for your own models\n",
    "\n",
    "# 6. Build and Run\n",
    "\n",
    "# 7. Making AR Things\n",
    "\n",
    "# 8. Take a Video"
   ]
  }
 ],
 "metadata": {
  "kernelspec": {
   "display_name": "Python 3 (ipykernel)",
   "language": "python",
   "name": "python3"
  },
  "language_info": {
   "codemirror_mode": {
    "name": "ipython",
    "version": 3
   },
   "file_extension": ".py",
   "mimetype": "text/x-python",
   "name": "python",
   "nbconvert_exporter": "python",
   "pygments_lexer": "ipython3",
   "version": "3.11.5"
  }
 },
 "nbformat": 4,
 "nbformat_minor": 5
}
