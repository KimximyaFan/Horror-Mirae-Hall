{
 "cells": [
  {
   "cell_type": "code",
   "execution_count": null,
   "id": "d1f06d29",
   "metadata": {},
   "outputs": [],
   "source": [
    "import moviepy.editor as mp\n",
    "\n",
    "video_path = \"data/Video_Final_2.mp4\"\n",
    "output_path = \"data/Output_Video_With_Fade2.mp4\"\n",
    "\n",
    "video = mp.VideoFileClip(video_path)\n",
    "\n",
    "video_with_fadeout = video.fx(mp.vfx.fadeout, duration=1)\n",
    "\n",
    "video_with_fadeout.write_videofile(output_path, codec=\"libx264\", audio_codec=\"aac\")"
   ]
  }
 ],
 "metadata": {
  "kernelspec": {
   "display_name": "Python 3 (ipykernel)",
   "language": "python",
   "name": "python3"
  },
  "language_info": {
   "codemirror_mode": {
    "name": "ipython",
    "version": 3
   },
   "file_extension": ".py",
   "mimetype": "text/x-python",
   "name": "python",
   "nbconvert_exporter": "python",
   "pygments_lexer": "ipython3",
   "version": "3.11.5"
  }
 },
 "nbformat": 4,
 "nbformat_minor": 5
}
