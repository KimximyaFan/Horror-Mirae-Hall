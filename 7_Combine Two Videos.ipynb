{
 "cells": [
  {
   "cell_type": "code",
   "execution_count": null,
   "id": "ee24ab07",
   "metadata": {},
   "outputs": [],
   "source": [
    "from moviepy.editor import VideoFileClip, concatenate_videoclips, ColorClip\n",
    "\n",
    "video1_file = \"data/Video_Complete_1.mp4\"\n",
    "video2_file = \"data/Output_Video_With_Fade_In.mp4\"\n",
    "output_file = \"data/Combined_Video.mp4\"\n",
    "\n",
    "video1 = VideoFileClip(video1_file)\n",
    "video2 = VideoFileClip(video2_file)\n",
    "\n",
    "# Find the larger size between the two videos\n",
    "width = max(video1.size[0], video2.size[0])\n",
    "height = max(video1.size[1], video2.size[1])\n",
    "\n",
    "# Resize videos to have the same size\n",
    "video1 = video1.resize(newsize=(width, height))\n",
    "video2 = video2.resize(newsize=(width, height))\n",
    "\n",
    "black_screen_duration = 2\n",
    "black_screen = ColorClip(size=(width, height), color=(0, 0, 0), duration=black_screen_duration)\n",
    "\n",
    "combined_video = concatenate_videoclips([video1, black_screen, video2], method=\"compose\")\n",
    "\n",
    "combined_video.write_videofile(output_file, codec='libx264', audio_codec='aac', temp_audiofile=\"temp-audio.m4a\", remove_temp=True)"
   ]
  }
 ],
 "metadata": {
  "kernelspec": {
   "display_name": "Python 3 (ipykernel)",
   "language": "python",
   "name": "python3"
  },
  "language_info": {
   "codemirror_mode": {
    "name": "ipython",
    "version": 3
   },
   "file_extension": ".py",
   "mimetype": "text/x-python",
   "name": "python",
   "nbconvert_exporter": "python",
   "pygments_lexer": "ipython3",
   "version": "3.11.5"
  }
 },
 "nbformat": 4,
 "nbformat_minor": 5
}
