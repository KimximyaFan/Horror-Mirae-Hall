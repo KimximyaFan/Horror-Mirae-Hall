{
 "cells": [
  {
   "cell_type": "code",
   "execution_count": null,
   "id": "b67ed033",
   "metadata": {},
   "outputs": [],
   "source": [
    "import moviepy.editor as mp\n",
    "\n",
    "video_path = \"data/bgm_with_foot_2.mp4\"\n",
    "audio_path = \"data/Door_Open.mp3\"\n",
    "output_path = \"data/Video_Final_2.mp4\"\n",
    "\n",
    "video = mp.VideoFileClip(video_path)\n",
    "door_open_sound = mp.AudioFileClip(audio_path).volumex(3.0)\n",
    "\n",
    "start_time = video.duration - 1\n",
    "\n",
    "final_audio = mp.CompositeAudioClip([video.audio, door_open_sound.set_start(start_time)])\n",
    "\n",
    "final_video = video.set_audio(final_audio)\n",
    "\n",
    "final_video.write_videofile(output_path, codec=\"libx264\", audio_codec=\"aac\")"
   ]
  }
 ],
 "metadata": {
  "kernelspec": {
   "display_name": "Python 3 (ipykernel)",
   "language": "python",
   "name": "python3"
  },
  "language_info": {
   "codemirror_mode": {
    "name": "ipython",
    "version": 3
   },
   "file_extension": ".py",
   "mimetype": "text/x-python",
   "name": "python",
   "nbconvert_exporter": "python",
   "pygments_lexer": "ipython3",
   "version": "3.11.5"
  }
 },
 "nbformat": 4,
 "nbformat_minor": 5
}
