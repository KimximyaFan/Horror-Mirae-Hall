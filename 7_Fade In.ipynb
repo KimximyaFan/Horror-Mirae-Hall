{
 "cells": [
  {
   "cell_type": "code",
   "execution_count": null,
   "id": "5a9f6697",
   "metadata": {},
   "outputs": [],
   "source": [
    "from moviepy.editor import VideoFileClip\n",
    "import moviepy.editor as mp\n",
    "\n",
    "video_file = \"data/Output_Video_With_Fade2.mp4\"\n",
    "output_file = \"data/Output_Video_With_Fade_In.mp4\"\n",
    "\n",
    "video_clip = VideoFileClip(video_file)\n",
    "video_with_fadein = video_clip.fx(mp.vfx.fadein, duration=1)\n",
    "\n",
    "video_with_fadein.write_videofile(output_file, codec='libx264', audio_codec='aac')"
   ]
  }
 ],
 "metadata": {
  "kernelspec": {
   "display_name": "Python 3 (ipykernel)",
   "language": "python",
   "name": "python3"
  },
  "language_info": {
   "codemirror_mode": {
    "name": "ipython",
    "version": 3
   },
   "file_extension": ".py",
   "mimetype": "text/x-python",
   "name": "python",
   "nbconvert_exporter": "python",
   "pygments_lexer": "ipython3",
   "version": "3.11.5"
  }
 },
 "nbformat": 4,
 "nbformat_minor": 5
}
