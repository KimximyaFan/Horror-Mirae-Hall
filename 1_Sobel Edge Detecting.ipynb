{
 "cells": [
  {
   "cell_type": "code",
   "execution_count": null,
   "id": "7ece39c6",
   "metadata": {},
   "outputs": [],
   "source": [
    "import cv2\n",
    "import numpy as np\n",
    "\n",
    "video = cv2.VideoCapture('data/Video_5.mp4')\n",
    "\n",
    "frame_width = int(video.get(cv2.CAP_PROP_FRAME_WIDTH))\n",
    "frame_height = int(video.get(cv2.CAP_PROP_FRAME_HEIGHT))\n",
    "fps = int(video.get(cv2.CAP_PROP_FPS))\n",
    "\n",
    "fourcc = cv2.VideoWriter_fourcc(*'mp4v')\n",
    "output = cv2.VideoWriter('data/Video_7.mp4', fourcc, fps, (frame_width, frame_height), isColor=True)\n",
    "\n",
    "while True:\n",
    "    valid, img = video.read()\n",
    "    \n",
    "    if not valid:\n",
    "        break\n",
    "    \n",
    "    gray_img = cv2.cvtColor(img, cv2.COLOR_BGR2GRAY)\n",
    "    \n",
    "    sobelx = cv2.Sobel(gray_img, cv2.CV_64F, 1, 0, ksize=3)\n",
    "    sobely = cv2.Sobel(gray_img, cv2.CV_64F, 0, 1, ksize=3)\n",
    "    sobel = np.hypot(sobelx, sobely)\n",
    "    \n",
    "    edge_img = np.copy(img)\n",
    "    edge_img[sobel > 15] = [0, 0, 0]\n",
    "    \n",
    "    output.write(edge_img)\n",
    "\n",
    "video.release()\n",
    "output.release()\n",
    "cv2.destroyAllWindows()\n",
    "\n",
    "print(\"end\")"
   ]
  }
 ],
 "metadata": {
  "kernelspec": {
   "display_name": "Python 3 (ipykernel)",
   "language": "python",
   "name": "python3"
  },
  "language_info": {
   "codemirror_mode": {
    "name": "ipython",
    "version": 3
   },
   "file_extension": ".py",
   "mimetype": "text/x-python",
   "name": "python",
   "nbconvert_exporter": "python",
   "pygments_lexer": "ipython3",
   "version": "3.11.5"
  }
 },
 "nbformat": 4,
 "nbformat_minor": 5
}
